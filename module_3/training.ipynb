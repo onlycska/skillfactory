{
 "cells": [
  {
   "cell_type": "markdown",
   "metadata": {},
   "source": [
    "# Загрузка Pandas и очистка данных"
   ]
  },
  {
   "cell_type": "code",
   "execution_count": 1,
   "metadata": {},
   "outputs": [],
   "source": [
    "from collections import Counter\n",
    "import pandas as pd\n",
    "import re\n",
    "import datetime"
   ]
  },
  {
   "cell_type": "code",
   "execution_count": 2,
   "metadata": {},
   "outputs": [
    {
     "output_type": "execute_result",
     "data": {
      "text/plain": [
       "  Restaurant_id       City                                      Cuisine Style  \\\n",
       "0       id_5569      Paris            ['European', 'French', 'International']   \n",
       "1       id_1535  Stockholm                                                NaN   \n",
       "2        id_352     London  ['Japanese', 'Sushi', 'Asian', 'Grill', 'Veget...   \n",
       "\n",
       "   Ranking  Rating Price Range  Number of Reviews  \\\n",
       "0   5570.0     3.5    $$ - $$$              194.0   \n",
       "1   1537.0     4.0         NaN               10.0   \n",
       "2    353.0     4.5        $$$$              688.0   \n",
       "\n",
       "                                             Reviews  \\\n",
       "0  [['Good food at your doorstep', 'A good hotel ...   \n",
       "1  [['Unique cuisine', 'Delicious Nepalese food']...   \n",
       "2  [['Catch up with friends', 'Not exceptional'],...   \n",
       "\n",
       "                                              URL_TA     ID_TA  \n",
       "0  /Restaurant_Review-g187147-d1912643-Reviews-R_...  d1912643  \n",
       "1  /Restaurant_Review-g189852-d7992032-Reviews-Bu...  d7992032  \n",
       "2  /Restaurant_Review-g186338-d8632781-Reviews-RO...  d8632781  "
      ],
      "text/html": "<div>\n<style scoped>\n    .dataframe tbody tr th:only-of-type {\n        vertical-align: middle;\n    }\n\n    .dataframe tbody tr th {\n        vertical-align: top;\n    }\n\n    .dataframe thead th {\n        text-align: right;\n    }\n</style>\n<table border=\"1\" class=\"dataframe\">\n  <thead>\n    <tr style=\"text-align: right;\">\n      <th></th>\n      <th>Restaurant_id</th>\n      <th>City</th>\n      <th>Cuisine Style</th>\n      <th>Ranking</th>\n      <th>Rating</th>\n      <th>Price Range</th>\n      <th>Number of Reviews</th>\n      <th>Reviews</th>\n      <th>URL_TA</th>\n      <th>ID_TA</th>\n    </tr>\n  </thead>\n  <tbody>\n    <tr>\n      <th>0</th>\n      <td>id_5569</td>\n      <td>Paris</td>\n      <td>['European', 'French', 'International']</td>\n      <td>5570.0</td>\n      <td>3.5</td>\n      <td>$$ - $$$</td>\n      <td>194.0</td>\n      <td>[['Good food at your doorstep', 'A good hotel ...</td>\n      <td>/Restaurant_Review-g187147-d1912643-Reviews-R_...</td>\n      <td>d1912643</td>\n    </tr>\n    <tr>\n      <th>1</th>\n      <td>id_1535</td>\n      <td>Stockholm</td>\n      <td>NaN</td>\n      <td>1537.0</td>\n      <td>4.0</td>\n      <td>NaN</td>\n      <td>10.0</td>\n      <td>[['Unique cuisine', 'Delicious Nepalese food']...</td>\n      <td>/Restaurant_Review-g189852-d7992032-Reviews-Bu...</td>\n      <td>d7992032</td>\n    </tr>\n    <tr>\n      <th>2</th>\n      <td>id_352</td>\n      <td>London</td>\n      <td>['Japanese', 'Sushi', 'Asian', 'Grill', 'Veget...</td>\n      <td>353.0</td>\n      <td>4.5</td>\n      <td>$$$$</td>\n      <td>688.0</td>\n      <td>[['Catch up with friends', 'Not exceptional'],...</td>\n      <td>/Restaurant_Review-g186338-d8632781-Reviews-RO...</td>\n      <td>d8632781</td>\n    </tr>\n  </tbody>\n</table>\n</div>"
     },
     "metadata": {},
     "execution_count": 2
    }
   ],
   "source": [
    "df = pd.read_csv('main_task.csv')\n",
    "df.head(3)"
   ]
  },
  {
   "source": [
    "## Функции"
   ],
   "cell_type": "markdown",
   "metadata": {}
  },
  {
   "cell_type": "code",
   "execution_count": 3,
   "metadata": {},
   "outputs": [],
   "source": [
    "def price_range(text):\n",
    "    # create price range in digits\n",
    "    if text == \"$$ - $$$\":\n",
    "        return 100\n",
    "    elif text == \"$$$$\":\n",
    "        return 1000\n",
    "    elif text == \"$\":\n",
    "        return 1\n",
    "    else:\n",
    "        return None"
   ]
  },
  {
   "cell_type": "code",
   "execution_count": 4,
   "metadata": {},
   "outputs": [],
   "source": [
    "def del_not_digit_data(dataframe):\n",
    "    for column in dataframe.columns:\n",
    "        try:\n",
    "            float(dataframe[column][0])\n",
    "        except Exception as ex:\n",
    "            print(ex)\n",
    "            dataframe.drop([column], axis=1, inplace=True)\n",
    "    return dataframe"
   ]
  },
  {
   "cell_type": "code",
   "execution_count": 5,
   "metadata": {},
   "outputs": [
    {
     "output_type": "execute_result",
     "data": {
      "text/plain": [
       "$$ - $$$    18412\n",
       "$            6279\n",
       "$$$$         1423\n",
       "Name: Price Range, dtype: int64"
      ]
     },
     "metadata": {},
     "execution_count": 5
    }
   ],
   "source": [
    "df['Price Range'].value_counts()"
   ]
  },
  {
   "cell_type": "code",
   "execution_count": 6,
   "metadata": {},
   "outputs": [],
   "source": [
    "# Ваш код по очистке данных и генерации новых признаков\n",
    "# При необходимости добавьте ячейки\n",
    "# df['Price Range'] = df['Price Range'].apply(price_range)\n",
    "# df['Price Range'].fillna(df['Price Range'].mean(), inplace=True)\n",
    "# df['Price Range'].value_counts()"
   ]
  },
  {
   "cell_type": "code",
   "execution_count": 7,
   "metadata": {},
   "outputs": [],
   "source": [
    "df['Price Range'] = df['Price Range'].apply(price_range)\n",
    "prices = pd.get_dummies(df['Price Range'])\n",
    "df = df.drop('Price Range', axis=1)\n",
    "df = df.join(prices)"
   ]
  },
  {
   "cell_type": "code",
   "execution_count": 8,
   "metadata": {},
   "outputs": [
    {
     "output_type": "stream",
     "name": "stdout",
     "text": [
      "<class 'pandas.core.frame.DataFrame'>\nRangeIndex: 40000 entries, 0 to 39999\nData columns (total 42 columns):\n #   Column             Non-Null Count  Dtype  \n---  ------             --------------  -----  \n 0   Restaurant_id      40000 non-null  object \n 1   Cuisine Style      30717 non-null  object \n 2   Ranking            40000 non-null  float64\n 3   Rating             40000 non-null  float64\n 4   Number of Reviews  37457 non-null  float64\n 5   Reviews            40000 non-null  object \n 6   URL_TA             40000 non-null  object \n 7   ID_TA              40000 non-null  object \n 8   1.0                40000 non-null  uint8  \n 9   100.0              40000 non-null  uint8  \n 10  1000.0             40000 non-null  uint8  \n 11  Amsterdam          40000 non-null  uint8  \n 12  Athens             40000 non-null  uint8  \n 13  Barcelona          40000 non-null  uint8  \n 14  Berlin             40000 non-null  uint8  \n 15  Bratislava         40000 non-null  uint8  \n 16  Brussels           40000 non-null  uint8  \n 17  Budapest           40000 non-null  uint8  \n 18  Copenhagen         40000 non-null  uint8  \n 19  Dublin             40000 non-null  uint8  \n 20  Edinburgh          40000 non-null  uint8  \n 21  Geneva             40000 non-null  uint8  \n 22  Hamburg            40000 non-null  uint8  \n 23  Helsinki           40000 non-null  uint8  \n 24  Krakow             40000 non-null  uint8  \n 25  Lisbon             40000 non-null  uint8  \n 26  Ljubljana          40000 non-null  uint8  \n 27  London             40000 non-null  uint8  \n 28  Luxembourg         40000 non-null  uint8  \n 29  Lyon               40000 non-null  uint8  \n 30  Madrid             40000 non-null  uint8  \n 31  Milan              40000 non-null  uint8  \n 32  Munich             40000 non-null  uint8  \n 33  Oporto             40000 non-null  uint8  \n 34  Oslo               40000 non-null  uint8  \n 35  Paris              40000 non-null  uint8  \n 36  Prague             40000 non-null  uint8  \n 37  Rome               40000 non-null  uint8  \n 38  Stockholm          40000 non-null  uint8  \n 39  Vienna             40000 non-null  uint8  \n 40  Warsaw             40000 non-null  uint8  \n 41  Zurich             40000 non-null  uint8  \ndtypes: float64(3), object(5), uint8(34)\nmemory usage: 3.7+ MB\n"
     ]
    }
   ],
   "source": [
    "cities = pd.get_dummies(df.City)\n",
    "df = df.drop('City', axis=1)\n",
    "df = df.join(cities)\n",
    "df.info()"
   ]
  },
  {
   "cell_type": "code",
   "execution_count": 9,
   "metadata": {},
   "outputs": [
    {
     "output_type": "stream",
     "name": "stdout",
     "text": [
      "[['Good food at your doorstep', 'A good hotel restaurant'], ['12/31/2017', '11/20/2017']]\n"
     ]
    }
   ],
   "source": [
    "pattern = re.compile('\\d+/\\d+/\\d+')\n",
    "df['date_of_Review'] = df['Reviews'].apply(lambda x: re.findall(pattern, x))\n",
    "df['data_2'] = df['date_of_Review'].apply(lambda x: pd.to_datetime(x).max())\n",
    "df['data_1'] = df['date_of_Review'].apply(lambda x: pd.to_datetime(x).min())"
   ]
  },
  {
   "cell_type": "code",
   "execution_count": 10,
   "metadata": {},
   "outputs": [
    {
     "output_type": "stream",
     "name": "stdout",
     "text": [
      "2018-02-26 00:00:00\n",
      "3207.0\n"
     ]
    }
   ],
   "source": [
    "print(df.data_2.max())\n",
    "df[\"date_diff\"] = df.data_2 - df.data_1\n",
    "df[\"date_diff\"] = df.date_diff.apply(lambda x: float(x.days))\n",
    "print(df.date_diff.max())"
   ]
  },
  {
   "cell_type": "code",
   "execution_count": 11,
   "metadata": {},
   "outputs": [
    {
     "output_type": "stream",
     "name": "stdout",
     "text": [
      "['European', 'French', 'International']\n"
     ]
    }
   ],
   "source": [
    "cuisine = Counter()\n",
    "cuisines = set()\n",
    "cuisines_variance = []\n",
    "pattern = re.compile(\"[a-zA-Z]+\\s*[a-zA-Z]*\\s*[a-zA-Z]*\\s*[a-zA-Z]*\\s*[a-zA-Z]*\\s*[a-zA-Z]*\\s*[a-zA-Z]*\")\n",
    "test = []\n",
    "for x in df['Cuisine Style']:\n",
    "    try:\n",
    "        epic = re.findall(pattern, x)\n",
    "        for i in epic:\n",
    "            cuisines.add(i)\n",
    "        test.append(epic)\n",
    "    except:\n",
    "        test.append(['pass'])\n",
    "        pass\n",
    "print(test[0])\n",
    "for cell in test:\n",
    "    try:\n",
    "        # cell = cell.strip(\"[,]\")\n",
    "        # cell = cell.split()\n",
    "        # print(cell)\n",
    "        cuisines_variance.append(len(cell))\n",
    "        for i in cell:\n",
    "            cuisine[i] += 1\n",
    "    except:\n",
    "        cuisines_variance.append(1)\n",
    "        pass\n",
    "df[\"cuisine_variance\"] = cuisines_variance\n",
    "# print(sorted(cuisines))\n",
    "# print(len(cuisines))\n",
    "# print(cuisine.most_common(1))\n",
    "# print(sum(cuisines_variance)/len(cuisines_variance))"
   ]
  },
  {
   "cell_type": "code",
   "execution_count": null,
   "metadata": {},
   "outputs": [],
   "source": []
  },
  {
   "cell_type": "code",
   "execution_count": 12,
   "metadata": {},
   "outputs": [
    {
     "output_type": "stream",
     "name": "stdout",
     "text": [
      "could not convert string to float: 'id_5569'\n",
      "could not convert string to float: \"['European', 'French', 'International']\"\n",
      "could not convert string to float: \"[['Good food at your doorstep', 'A good hotel restaurant'], ['12/31/2017', '11/20/2017']]\"\n",
      "could not convert string to float: '/Restaurant_Review-g187147-d1912643-Reviews-R_Yves-Paris_Ile_de_France.html'\n",
      "could not convert string to float: 'd1912643'\n",
      "float() argument must be a string or a number, not 'list'\n",
      "float() argument must be a string or a number, not 'Timestamp'\n",
      "float() argument must be a string or a number, not 'Timestamp'\n",
      "<class 'pandas.core.frame.DataFrame'>\n",
      "RangeIndex: 40000 entries, 0 to 39999\n",
      "Data columns (total 39 columns):\n",
      " #   Column             Non-Null Count  Dtype  \n",
      "---  ------             --------------  -----  \n",
      " 0   Ranking            40000 non-null  float64\n",
      " 1   Rating             40000 non-null  float64\n",
      " 2   Number of Reviews  37457 non-null  float64\n",
      " 3   1.0                40000 non-null  uint8  \n",
      " 4   100.0              40000 non-null  uint8  \n",
      " 5   1000.0             40000 non-null  uint8  \n",
      " 6   Amsterdam          40000 non-null  uint8  \n",
      " 7   Athens             40000 non-null  uint8  \n",
      " 8   Barcelona          40000 non-null  uint8  \n",
      " 9   Berlin             40000 non-null  uint8  \n",
      " 10  Bratislava         40000 non-null  uint8  \n",
      " 11  Brussels           40000 non-null  uint8  \n",
      " 12  Budapest           40000 non-null  uint8  \n",
      " 13  Copenhagen         40000 non-null  uint8  \n",
      " 14  Dublin             40000 non-null  uint8  \n",
      " 15  Edinburgh          40000 non-null  uint8  \n",
      " 16  Geneva             40000 non-null  uint8  \n",
      " 17  Hamburg            40000 non-null  uint8  \n",
      " 18  Helsinki           40000 non-null  uint8  \n",
      " 19  Krakow             40000 non-null  uint8  \n",
      " 20  Lisbon             40000 non-null  uint8  \n",
      " 21  Ljubljana          40000 non-null  uint8  \n",
      " 22  London             40000 non-null  uint8  \n",
      " 23  Luxembourg         40000 non-null  uint8  \n",
      " 24  Lyon               40000 non-null  uint8  \n",
      " 25  Madrid             40000 non-null  uint8  \n",
      " 26  Milan              40000 non-null  uint8  \n",
      " 27  Munich             40000 non-null  uint8  \n",
      " 28  Oporto             40000 non-null  uint8  \n",
      " 29  Oslo               40000 non-null  uint8  \n",
      " 30  Paris              40000 non-null  uint8  \n",
      " 31  Prague             40000 non-null  uint8  \n",
      " 32  Rome               40000 non-null  uint8  \n",
      " 33  Stockholm          40000 non-null  uint8  \n",
      " 34  Vienna             40000 non-null  uint8  \n",
      " 35  Warsaw             40000 non-null  uint8  \n",
      " 36  Zurich             40000 non-null  uint8  \n",
      " 37  date_diff          33529 non-null  float64\n",
      " 38  cuisine_variance   40000 non-null  int64  \n",
      "dtypes: float64(4), int64(1), uint8(34)\n",
      "memory usage: 2.8 MB\n"
     ]
    }
   ],
   "source": [
    "df = del_not_digit_data(df)\n",
    "df.info()"
   ]
  },
  {
   "cell_type": "code",
   "execution_count": 13,
   "metadata": {},
   "outputs": [
    {
     "output_type": "stream",
     "name": "stdout",
     "text": [
      "<class 'pandas.core.frame.DataFrame'>\nRangeIndex: 40000 entries, 0 to 39999\nData columns (total 39 columns):\n #   Column             Non-Null Count  Dtype  \n---  ------             --------------  -----  \n 0   Ranking            40000 non-null  float64\n 1   Rating             40000 non-null  float64\n 2   Number of Reviews  40000 non-null  float64\n 3   1.0                40000 non-null  uint8  \n 4   100.0              40000 non-null  uint8  \n 5   1000.0             40000 non-null  uint8  \n 6   Amsterdam          40000 non-null  uint8  \n 7   Athens             40000 non-null  uint8  \n 8   Barcelona          40000 non-null  uint8  \n 9   Berlin             40000 non-null  uint8  \n 10  Bratislava         40000 non-null  uint8  \n 11  Brussels           40000 non-null  uint8  \n 12  Budapest           40000 non-null  uint8  \n 13  Copenhagen         40000 non-null  uint8  \n 14  Dublin             40000 non-null  uint8  \n 15  Edinburgh          40000 non-null  uint8  \n 16  Geneva             40000 non-null  uint8  \n 17  Hamburg            40000 non-null  uint8  \n 18  Helsinki           40000 non-null  uint8  \n 19  Krakow             40000 non-null  uint8  \n 20  Lisbon             40000 non-null  uint8  \n 21  Ljubljana          40000 non-null  uint8  \n 22  London             40000 non-null  uint8  \n 23  Luxembourg         40000 non-null  uint8  \n 24  Lyon               40000 non-null  uint8  \n 25  Madrid             40000 non-null  uint8  \n 26  Milan              40000 non-null  uint8  \n 27  Munich             40000 non-null  uint8  \n 28  Oporto             40000 non-null  uint8  \n 29  Oslo               40000 non-null  uint8  \n 30  Paris              40000 non-null  uint8  \n 31  Prague             40000 non-null  uint8  \n 32  Rome               40000 non-null  uint8  \n 33  Stockholm          40000 non-null  uint8  \n 34  Vienna             40000 non-null  uint8  \n 35  Warsaw             40000 non-null  uint8  \n 36  Zurich             40000 non-null  uint8  \n 37  date_diff          40000 non-null  float64\n 38  cuisine_variance   40000 non-null  int64  \ndtypes: float64(4), int64(1), uint8(34)\nmemory usage: 2.8 MB\n"
     ]
    }
   ],
   "source": [
    "df.fillna(df['Number of Reviews'].min(), inplace=True)\n",
    "df.info(memory_usage='deep')"
   ]
  },
  {
   "cell_type": "markdown",
   "metadata": {},
   "source": [
    "# Разбиваем датафрейм на части, необходимые для обучения и тестирования модели"
   ]
  },
  {
   "cell_type": "code",
   "execution_count": 14,
   "metadata": {},
   "outputs": [],
   "source": [
    "# Х - данные с информацией о ресторанах, у - целевая переменная (рейтинги ресторанов)\n",
    "X = df.drop(['Rating'], axis = 1)\n",
    "y = df['Rating']"
   ]
  },
  {
   "cell_type": "code",
   "execution_count": 15,
   "metadata": {},
   "outputs": [],
   "source": [
    "# Загружаем специальный инструмент для разбивки:\n",
    "from sklearn.model_selection import train_test_split"
   ]
  },
  {
   "cell_type": "code",
   "execution_count": 16,
   "metadata": {},
   "outputs": [],
   "source": [
    "# Наборы данных с меткой \"train\" будут использоваться для обучения модели, \"test\" - для тестирования.\n",
    "# Для тестирования мы будем использовать 25% от исходного датасета.\n",
    "X_train, X_test, y_train, y_test = train_test_split(X, y, test_size=0.25)"
   ]
  },
  {
   "cell_type": "markdown",
   "metadata": {},
   "source": [
    "# Создаём, обучаем и тестируем модель"
   ]
  },
  {
   "cell_type": "code",
   "execution_count": 17,
   "metadata": {},
   "outputs": [],
   "source": [
    "# Импортируем необходимые библиотеки:\n",
    "from sklearn.ensemble import RandomForestRegressor # инструмент для создания и обучения модели\n",
    "from sklearn import metrics # инструменты для оценки точности модели"
   ]
  },
  {
   "cell_type": "code",
   "execution_count": 18,
   "metadata": {},
   "outputs": [],
   "source": [
    "# Создаём модель\n",
    "regr = RandomForestRegressor(n_estimators=100)\n",
    "\n",
    "# Обучаем модель на тестовом наборе данных\n",
    "regr.fit(X_train, y_train)\n",
    "\n",
    "# Используем обученную модель для предсказания рейтинга ресторанов в тестовой выборке.\n",
    "# Предсказанные значения записываем в переменную y_pred\n",
    "y_pred = regr.predict(X_test)"
   ]
  },
  {
   "cell_type": "code",
   "execution_count": 19,
   "metadata": {},
   "outputs": [
    {
     "output_type": "stream",
     "name": "stdout",
     "text": [
      "MAE: 0.214691\n"
     ]
    }
   ],
   "source": [
    "# Сравниваем предсказанные значения (y_pred) с реальными (y_test), и смотрим насколько они в среднем отличаются\n",
    "# Метрика называется Mean Absolute Error (MAE) и показывает среднее отклонение предсказанных значений от фактических.\n",
    "print('MAE:', metrics.mean_absolute_error(y_test, y_pred))"
   ]
  }
 ],
 "metadata": {
  "kernelspec": {
   "display_name": "Python 3",
   "language": "python",
   "name": "python3"
  },
  "language_info": {
   "codemirror_mode": {
    "name": "ipython",
    "version": 3
   },
   "file_extension": ".py",
   "mimetype": "text/x-python",
   "name": "python",
   "nbconvert_exporter": "python",
   "pygments_lexer": "ipython3",
   "version": "3.8.5-final"
  }
 },
 "nbformat": 4,
 "nbformat_minor": 2
}
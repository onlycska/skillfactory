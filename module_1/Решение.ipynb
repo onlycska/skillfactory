{
 "cells": [
  {
   "cell_type": "code",
   "execution_count": 1,
   "metadata": {
    "_cell_guid": "b1076dfc-b9ad-4769-8c92-a6c4dae69d19",
    "_uuid": "8f2839f25d086af736a60e9eeb907d3b93b6e0e5",
    "colab": {},
    "colab_type": "code",
    "id": "U2D2gTdJVp90"
   },
   "outputs": [],
   "source": [
    "import numpy as np\n",
    "import pandas as pd\n",
    "import seaborn as sns\n",
    "import matplotlib.pyplot as plt\n",
    "from collections import Counter"
   ]
  },
  {
   "cell_type": "code",
   "execution_count": 2,
   "metadata": {
    "_cell_guid": "79c7e3d0-c299-4dcb-8224-4455121ee9b0",
    "_uuid": "d629ff2d2480ee46fbb7e2d37f6b5fab8052498a",
    "colab": {},
    "colab_type": "code",
    "id": "oyGfxL3eVp9-"
   },
   "outputs": [
    {
     "data": {
      "text/html": [
       "<div>\n",
       "<style scoped>\n",
       "    .dataframe tbody tr th:only-of-type {\n",
       "        vertical-align: middle;\n",
       "    }\n",
       "\n",
       "    .dataframe tbody tr th {\n",
       "        vertical-align: top;\n",
       "    }\n",
       "\n",
       "    .dataframe thead th {\n",
       "        text-align: right;\n",
       "    }\n",
       "</style>\n",
       "<table border=\"1\" class=\"dataframe\">\n",
       "  <thead>\n",
       "    <tr style=\"text-align: right;\">\n",
       "      <th></th>\n",
       "      <th>imdb_id</th>\n",
       "      <th>budget</th>\n",
       "      <th>revenue</th>\n",
       "      <th>original_title</th>\n",
       "      <th>cast</th>\n",
       "      <th>director</th>\n",
       "      <th>tagline</th>\n",
       "      <th>overview</th>\n",
       "      <th>runtime</th>\n",
       "      <th>genres</th>\n",
       "      <th>production_companies</th>\n",
       "      <th>release_date</th>\n",
       "      <th>vote_average</th>\n",
       "      <th>release_year</th>\n",
       "    </tr>\n",
       "  </thead>\n",
       "  <tbody>\n",
       "    <tr>\n",
       "      <th>558</th>\n",
       "      <td>tt0179626</td>\n",
       "      <td>60000000</td>\n",
       "      <td>56359980</td>\n",
       "      <td>15 Minutes</td>\n",
       "      <td>Robert De Niro|Charlize Theron|Edward Burns|Ke...</td>\n",
       "      <td>John Herzfeld</td>\n",
       "      <td>America Likes to Watch</td>\n",
       "      <td>When Eastern European criminals Oleg and Emil ...</td>\n",
       "      <td>120</td>\n",
       "      <td>Action|Crime|Thriller</td>\n",
       "      <td>New Line Cinema|Industry Entertainment|Tribeca...</td>\n",
       "      <td>3/1/2001</td>\n",
       "      <td>5.7</td>\n",
       "      <td>2001</td>\n",
       "    </tr>\n",
       "    <tr>\n",
       "      <th>1557</th>\n",
       "      <td>tt0433442</td>\n",
       "      <td>15000000</td>\n",
       "      <td>11992014</td>\n",
       "      <td>The Return</td>\n",
       "      <td>Adam Scott|Kate Beahan|Sarah Michelle Gellar|P...</td>\n",
       "      <td>Asif Kapadia</td>\n",
       "      <td>The past never dies. It kills.</td>\n",
       "      <td>Joanna Mills has a successful career but feels...</td>\n",
       "      <td>85</td>\n",
       "      <td>Drama|Thriller</td>\n",
       "      <td>Rogue Pictures|Intrepid Pictures|Biscayne Pict...</td>\n",
       "      <td>11/10/2006</td>\n",
       "      <td>5.2</td>\n",
       "      <td>2006</td>\n",
       "    </tr>\n",
       "    <tr>\n",
       "      <th>1478</th>\n",
       "      <td>tt0455967</td>\n",
       "      <td>18000000</td>\n",
       "      <td>41009669</td>\n",
       "      <td>John Tucker Must Die</td>\n",
       "      <td>Jesse Metcalfe|Brittany Snow|Sophia Bush|Ariel...</td>\n",
       "      <td>Betty Thomas</td>\n",
       "      <td>Don't Get Mad. Get Even.</td>\n",
       "      <td>After discovering they are all dating the same...</td>\n",
       "      <td>87</td>\n",
       "      <td>Comedy</td>\n",
       "      <td>Twentieth Century Fox Film Corporation|Dune En...</td>\n",
       "      <td>7/27/2006</td>\n",
       "      <td>6.0</td>\n",
       "      <td>2006</td>\n",
       "    </tr>\n",
       "    <tr>\n",
       "      <th>1848</th>\n",
       "      <td>tt0146882</td>\n",
       "      <td>30000000</td>\n",
       "      <td>47126295</td>\n",
       "      <td>High Fidelity</td>\n",
       "      <td>John Cusack|Iben Hjejle|Todd Louiso|Jack Black...</td>\n",
       "      <td>Stephen Frears</td>\n",
       "      <td>A comedy about fear of commitment, hating your...</td>\n",
       "      <td>When record store owner Rob Gordon gets dumped...</td>\n",
       "      <td>113</td>\n",
       "      <td>Comedy|Drama|Romance|Music</td>\n",
       "      <td>Buena Vista|Touchstone Pictures</td>\n",
       "      <td>3/17/2000</td>\n",
       "      <td>7.0</td>\n",
       "      <td>2000</td>\n",
       "    </tr>\n",
       "    <tr>\n",
       "      <th>1505</th>\n",
       "      <td>tt0466909</td>\n",
       "      <td>25000000</td>\n",
       "      <td>119188334</td>\n",
       "      <td>The Omen</td>\n",
       "      <td>Liev Schreiber|Julia Stiles|Seamus Davey-Fitzp...</td>\n",
       "      <td>John Moore</td>\n",
       "      <td>A new generation of terror</td>\n",
       "      <td>A diplomatic couple adopts the son of the devi...</td>\n",
       "      <td>110</td>\n",
       "      <td>Drama|Horror|Thriller</td>\n",
       "      <td>Twentieth Century Fox Film Corporation|11:11 M...</td>\n",
       "      <td>6/6/2006</td>\n",
       "      <td>5.2</td>\n",
       "      <td>2006</td>\n",
       "    </tr>\n",
       "  </tbody>\n",
       "</table>\n",
       "</div>"
      ],
      "text/plain": [
       "        imdb_id    budget    revenue        original_title  \\\n",
       "558   tt0179626  60000000   56359980            15 Minutes   \n",
       "1557  tt0433442  15000000   11992014            The Return   \n",
       "1478  tt0455967  18000000   41009669  John Tucker Must Die   \n",
       "1848  tt0146882  30000000   47126295         High Fidelity   \n",
       "1505  tt0466909  25000000  119188334              The Omen   \n",
       "\n",
       "                                                   cast        director  \\\n",
       "558   Robert De Niro|Charlize Theron|Edward Burns|Ke...   John Herzfeld   \n",
       "1557  Adam Scott|Kate Beahan|Sarah Michelle Gellar|P...    Asif Kapadia   \n",
       "1478  Jesse Metcalfe|Brittany Snow|Sophia Bush|Ariel...    Betty Thomas   \n",
       "1848  John Cusack|Iben Hjejle|Todd Louiso|Jack Black...  Stephen Frears   \n",
       "1505  Liev Schreiber|Julia Stiles|Seamus Davey-Fitzp...      John Moore   \n",
       "\n",
       "                                                tagline  \\\n",
       "558                              America Likes to Watch   \n",
       "1557                     The past never dies. It kills.   \n",
       "1478                           Don't Get Mad. Get Even.   \n",
       "1848  A comedy about fear of commitment, hating your...   \n",
       "1505                         A new generation of terror   \n",
       "\n",
       "                                               overview  runtime  \\\n",
       "558   When Eastern European criminals Oleg and Emil ...      120   \n",
       "1557  Joanna Mills has a successful career but feels...       85   \n",
       "1478  After discovering they are all dating the same...       87   \n",
       "1848  When record store owner Rob Gordon gets dumped...      113   \n",
       "1505  A diplomatic couple adopts the son of the devi...      110   \n",
       "\n",
       "                          genres  \\\n",
       "558        Action|Crime|Thriller   \n",
       "1557              Drama|Thriller   \n",
       "1478                      Comedy   \n",
       "1848  Comedy|Drama|Romance|Music   \n",
       "1505       Drama|Horror|Thriller   \n",
       "\n",
       "                                   production_companies release_date  \\\n",
       "558   New Line Cinema|Industry Entertainment|Tribeca...     3/1/2001   \n",
       "1557  Rogue Pictures|Intrepid Pictures|Biscayne Pict...   11/10/2006   \n",
       "1478  Twentieth Century Fox Film Corporation|Dune En...    7/27/2006   \n",
       "1848                    Buena Vista|Touchstone Pictures    3/17/2000   \n",
       "1505  Twentieth Century Fox Film Corporation|11:11 M...     6/6/2006   \n",
       "\n",
       "      vote_average  release_year  \n",
       "558            5.7          2001  \n",
       "1557           5.2          2006  \n",
       "1478           6.0          2006  \n",
       "1848           7.0          2000  \n",
       "1505           5.2          2006  "
      ]
     },
     "execution_count": 2,
     "metadata": {},
     "output_type": "execute_result"
    }
   ],
   "source": [
    "data = pd.read_csv('movie_bd_v5.csv')\n",
    "data.sample(5)"
   ]
  },
  {
   "cell_type": "code",
   "execution_count": 3,
   "metadata": {
    "colab": {},
    "colab_type": "code",
    "id": "CoYUnagMVp-C",
    "scrolled": true
   },
   "outputs": [
    {
     "data": {
      "text/html": [
       "<div>\n",
       "<style scoped>\n",
       "    .dataframe tbody tr th:only-of-type {\n",
       "        vertical-align: middle;\n",
       "    }\n",
       "\n",
       "    .dataframe tbody tr th {\n",
       "        vertical-align: top;\n",
       "    }\n",
       "\n",
       "    .dataframe thead th {\n",
       "        text-align: right;\n",
       "    }\n",
       "</style>\n",
       "<table border=\"1\" class=\"dataframe\">\n",
       "  <thead>\n",
       "    <tr style=\"text-align: right;\">\n",
       "      <th></th>\n",
       "      <th>budget</th>\n",
       "      <th>revenue</th>\n",
       "      <th>runtime</th>\n",
       "      <th>vote_average</th>\n",
       "      <th>release_year</th>\n",
       "    </tr>\n",
       "  </thead>\n",
       "  <tbody>\n",
       "    <tr>\n",
       "      <th>count</th>\n",
       "      <td>1.889000e+03</td>\n",
       "      <td>1.889000e+03</td>\n",
       "      <td>1889.000000</td>\n",
       "      <td>1889.000000</td>\n",
       "      <td>1889.000000</td>\n",
       "    </tr>\n",
       "    <tr>\n",
       "      <th>mean</th>\n",
       "      <td>5.431083e+07</td>\n",
       "      <td>1.553653e+08</td>\n",
       "      <td>109.658549</td>\n",
       "      <td>6.140762</td>\n",
       "      <td>2007.860773</td>\n",
       "    </tr>\n",
       "    <tr>\n",
       "      <th>std</th>\n",
       "      <td>4.858721e+07</td>\n",
       "      <td>2.146698e+08</td>\n",
       "      <td>18.017041</td>\n",
       "      <td>0.764763</td>\n",
       "      <td>4.468841</td>\n",
       "    </tr>\n",
       "    <tr>\n",
       "      <th>min</th>\n",
       "      <td>5.000000e+06</td>\n",
       "      <td>2.033165e+06</td>\n",
       "      <td>63.000000</td>\n",
       "      <td>3.300000</td>\n",
       "      <td>2000.000000</td>\n",
       "    </tr>\n",
       "    <tr>\n",
       "      <th>25%</th>\n",
       "      <td>2.000000e+07</td>\n",
       "      <td>3.456058e+07</td>\n",
       "      <td>97.000000</td>\n",
       "      <td>5.600000</td>\n",
       "      <td>2004.000000</td>\n",
       "    </tr>\n",
       "    <tr>\n",
       "      <th>50%</th>\n",
       "      <td>3.800000e+07</td>\n",
       "      <td>8.361541e+07</td>\n",
       "      <td>107.000000</td>\n",
       "      <td>6.100000</td>\n",
       "      <td>2008.000000</td>\n",
       "    </tr>\n",
       "    <tr>\n",
       "      <th>75%</th>\n",
       "      <td>7.200000e+07</td>\n",
       "      <td>1.782626e+08</td>\n",
       "      <td>120.000000</td>\n",
       "      <td>6.600000</td>\n",
       "      <td>2012.000000</td>\n",
       "    </tr>\n",
       "    <tr>\n",
       "      <th>max</th>\n",
       "      <td>3.800000e+08</td>\n",
       "      <td>2.781506e+09</td>\n",
       "      <td>214.000000</td>\n",
       "      <td>8.100000</td>\n",
       "      <td>2015.000000</td>\n",
       "    </tr>\n",
       "  </tbody>\n",
       "</table>\n",
       "</div>"
      ],
      "text/plain": [
       "             budget       revenue      runtime  vote_average  release_year\n",
       "count  1.889000e+03  1.889000e+03  1889.000000   1889.000000   1889.000000\n",
       "mean   5.431083e+07  1.553653e+08   109.658549      6.140762   2007.860773\n",
       "std    4.858721e+07  2.146698e+08    18.017041      0.764763      4.468841\n",
       "min    5.000000e+06  2.033165e+06    63.000000      3.300000   2000.000000\n",
       "25%    2.000000e+07  3.456058e+07    97.000000      5.600000   2004.000000\n",
       "50%    3.800000e+07  8.361541e+07   107.000000      6.100000   2008.000000\n",
       "75%    7.200000e+07  1.782626e+08   120.000000      6.600000   2012.000000\n",
       "max    3.800000e+08  2.781506e+09   214.000000      8.100000   2015.000000"
      ]
     },
     "execution_count": 3,
     "metadata": {},
     "output_type": "execute_result"
    }
   ],
   "source": [
    "data.describe()"
   ]
  },
  {
   "cell_type": "code",
   "execution_count": 4,
   "metadata": {},
   "outputs": [
    {
     "name": "stdout",
     "output_type": "stream",
     "text": [
      "<class 'pandas.core.frame.DataFrame'>\n",
      "RangeIndex: 1889 entries, 0 to 1888\n",
      "Data columns (total 14 columns):\n",
      " #   Column                Non-Null Count  Dtype  \n",
      "---  ------                --------------  -----  \n",
      " 0   imdb_id               1889 non-null   object \n",
      " 1   budget                1889 non-null   int64  \n",
      " 2   revenue               1889 non-null   int64  \n",
      " 3   original_title        1889 non-null   object \n",
      " 4   cast                  1889 non-null   object \n",
      " 5   director              1889 non-null   object \n",
      " 6   tagline               1889 non-null   object \n",
      " 7   overview              1889 non-null   object \n",
      " 8   runtime               1889 non-null   int64  \n",
      " 9   genres                1889 non-null   object \n",
      " 10  production_companies  1889 non-null   object \n",
      " 11  release_date          1889 non-null   object \n",
      " 12  vote_average          1889 non-null   float64\n",
      " 13  release_year          1889 non-null   int64  \n",
      "dtypes: float64(1), int64(4), object(9)\n",
      "memory usage: 206.7+ KB\n"
     ]
    }
   ],
   "source": [
    "data.info()"
   ]
  },
  {
   "cell_type": "markdown",
   "metadata": {
    "colab_type": "text",
    "id": "DTIt7ezGVp-G"
   },
   "source": [
    "# Предобработка"
   ]
  },
  {
   "cell_type": "code",
   "execution_count": 5,
   "metadata": {
    "colab": {},
    "colab_type": "code",
    "id": "jNb40DwKVp-H"
   },
   "outputs": [],
   "source": [
    "answers = {} # создадим словарь для ответов\n",
    "\n",
    "# создание столбца с номерами месяцев, в которых выходили фильмы\n",
    "data['month'] = data['release_date']\n",
    "data['month'] = data['month'].apply(lambda x: x.split('/')[0])\n",
    "data['month'] = pd.to_numeric(data['month'])\n",
    "\n",
    "# создание столбца с количеством символов в названии фильмов\n",
    "data['title_len'] = data.original_title.apply(lambda x: len(x))\n",
    "\n",
    "# создание столбца с количеством слов в описании фильмов\n",
    "data['words_in_overview'] = data.overview.apply(lambda x: len(x.split()))\n",
    "\n",
    "# создание столбца с прибылью\n",
    "data['profit'] = data.revenue - data.budget"
   ]
  },
  {
   "cell_type": "code",
   "execution_count": 6,
   "metadata": {},
   "outputs": [],
   "source": [
    "# раскодирование столбца с названиями фильмов, чтобы русские символы стали читаемы\n",
    "data.original_title=data.original_title.apply(lambda x: x.encode('cp1252').decode('utf8'))\n",
    "\n",
    "# перевод столбца с датой из string формата в datetime\n",
    "data.release_date = pd.to_datetime(data['release_date'])"
   ]
  },
  {
   "cell_type": "code",
   "execution_count": 7,
   "metadata": {},
   "outputs": [],
   "source": [
    "# \n",
    "def genre_counts(movie_genres, counter):\n",
    "    \"\"\"\n",
    "    функция для подсчёта жанров в датасете (задания 11, 12, 17)\n",
    "    параметры:\n",
    "    movie_genres - значение текущей ячейки из столбца genres\n",
    "    counter - счётчик (класс Counter из collections)\n",
    "    \"\"\"\n",
    "    movie_genres = movie_genres.split(\"|\")\n",
    "    for genre in movie_genres:\n",
    "        counter[genre] += 1"
   ]
  },
  {
   "cell_type": "code",
   "execution_count": 8,
   "metadata": {},
   "outputs": [],
   "source": [
    "def data_count(value, column, counter, data=data, count=False, summary=False, sum_column=''):\n",
    "    \"\"\"\n",
    "    функция считает суммарные значения столбца sum_column \n",
    "    или подсчитывает количество повторяющихся значений value в предоставленном датафрейме\n",
    "    параметры:\n",
    "    value - значение текущей ячейки\n",
    "    column - название столбца, по которому отфильровываются все повторяющиеся value\n",
    "    counter - счётчик (класс Counter из collections)\n",
    "    data - весь датафрейм для обработки. стандартно равен всему датафрейму\n",
    "    count - нужно ли в счётчике вести подсчёт повторяющихся значений. \n",
    "    summary - нужно ли в счётчике суммировать значения. значения суммируются в столбце sum_column\n",
    "    sum_column - столбец с численными значениями,которые нужно суммировать \n",
    "    \"\"\"\n",
    "    # old_values - список уже обработанных значений. если новое значение не входит в список, оно обрабатывается\n",
    "    if value not in old_values:\n",
    "        old_values.append(value)\n",
    "        # выбор всех одинаковых значений в таблице для последующей обработки\n",
    "        filtered_data = data[data[column] == value]\n",
    "        # если в отфильтрованной таблице есть хотя бы 1 строка, подсчитываем данные\n",
    "        if filtered_data.shape[0] > 0:\n",
    "            total = 0\n",
    "            if count is True:\n",
    "                total = filtered_data.shape[0]\n",
    "            elif summary is True:\n",
    "                total = filtered_data[sum_column].sum()\n",
    "            if \"|\" in value:\n",
    "                values = value.split(\"|\")\n",
    "                for value in values:\n",
    "                    counter[value] += total\n",
    "            else:\n",
    "                counter[value] += total"
   ]
  },
  {
   "cell_type": "code",
   "execution_count": 9,
   "metadata": {},
   "outputs": [],
   "source": [
    "# ф\n",
    "def actors_crossing(actors, counter):\n",
    "    \"\"\"\n",
    "    функция для подсчёта задания 27 - какие актёры чаще всего играют в одном фильме\n",
    "    параметры:\n",
    "    actors - значение текущей ячейки из столбца cast\n",
    "    counter - счётчик (класс Counter из collections)\n",
    "    \"\"\"\n",
    "    if \"|\" in actors:\n",
    "        actors = actors.split(\"|\")\n",
    "        \n",
    "        # сортировка актёров по алфавиту, чтобы одинаковые актёры всегда встречались в одном порядке \n",
    "        # в разных фильмах\n",
    "        actors.sort()\n",
    "        for i in range(len(actors)):\n",
    "            for y in range(i+1, len(actors)):\n",
    "                crossed_actors = actors[i] + \" & \" + actors[y]\n",
    "                counter[crossed_actors] += 1"
   ]
  },
  {
   "cell_type": "markdown",
   "metadata": {
    "colab_type": "text",
    "id": "YxZaH-nPVp-L"
   },
   "source": [
    "# 1. У какого фильма из списка самый большой бюджет?"
   ]
  },
  {
   "cell_type": "markdown",
   "metadata": {
    "colab_type": "text",
    "id": "Nd-G5gX6Vp-M"
   },
   "source": [
    "Использовать варианты ответов в коде решения запрещено.    \n",
    "Вы думаете и в жизни у вас будут варианты ответов?)"
   ]
  },
  {
   "cell_type": "code",
   "execution_count": 10,
   "metadata": {
    "colab": {},
    "colab_type": "code",
    "id": "uVnXAY5RVp-O"
   },
   "outputs": [],
   "source": [
    "# ответ\n",
    "answers['1'] = 'Pirates of the Caribbean: On Stranger Tides'\n",
    "# +"
   ]
  },
  {
   "cell_type": "code",
   "execution_count": 11,
   "metadata": {
    "colab": {},
    "colab_type": "code",
    "id": "dZwb3m28Vp-S"
   },
   "outputs": [
    {
     "data": {
      "text/plain": [
       "723    Pirates of the Caribbean: On Stranger Tides\n",
       "Name: original_title, dtype: object"
      ]
     },
     "metadata": {},
     "output_type": "display_data"
    }
   ],
   "source": [
    "max_budg = data.budget.max()\n",
    "display(data[data.budget == max_budg].original_title)"
   ]
  },
  {
   "cell_type": "markdown",
   "metadata": {
    "colab_type": "text",
    "id": "K7L3nbRXVp-X"
   },
   "source": [
    "ВАРИАНТ 2"
   ]
  },
  {
   "cell_type": "code",
   "execution_count": 12,
   "metadata": {
    "colab": {},
    "colab_type": "code",
    "id": "OGaoQI7rVp-X"
   },
   "outputs": [],
   "source": [
    "# можно добавлять разные варианты решения"
   ]
  },
  {
   "cell_type": "markdown",
   "metadata": {
    "colab_type": "text",
    "id": "FNRbbI3vVp-c"
   },
   "source": [
    "# 2. Какой из фильмов самый длительный (в минутах)?"
   ]
  },
  {
   "cell_type": "code",
   "execution_count": 13,
   "metadata": {
    "colab": {},
    "colab_type": "code",
    "id": "vHAoEXNTVp-d"
   },
   "outputs": [],
   "source": [
    "# ответ\n",
    "answers['2'] = 'Gods and Generals'\n",
    "# +"
   ]
  },
  {
   "cell_type": "code",
   "execution_count": 14,
   "metadata": {
    "colab": {},
    "colab_type": "code",
    "id": "ot-VX2XrVp-g"
   },
   "outputs": [
    {
     "data": {
      "text/plain": [
       "1157    Gods and Generals\n",
       "Name: original_title, dtype: object"
      ]
     },
     "metadata": {},
     "output_type": "display_data"
    }
   ],
   "source": [
    "max_runtime = data.runtime.max()\n",
    "display(data[data.runtime == max_runtime].original_title)"
   ]
  },
  {
   "cell_type": "markdown",
   "metadata": {
    "colab_type": "text",
    "id": "bapLlpW8Vp-k"
   },
   "source": [
    "# 3. Какой из фильмов самый короткий (в минутах)?\n",
    "\n",
    "\n",
    "\n"
   ]
  },
  {
   "cell_type": "code",
   "execution_count": 15,
   "metadata": {},
   "outputs": [],
   "source": [
    "answers['3'] = 'Winnie the Pooh'\n",
    "# +"
   ]
  },
  {
   "cell_type": "code",
   "execution_count": 16,
   "metadata": {
    "colab": {},
    "colab_type": "code",
    "id": "YBxaSHuAVp-l",
    "scrolled": true
   },
   "outputs": [
    {
     "data": {
      "text/plain": [
       "768    Winnie the Pooh\n",
       "Name: original_title, dtype: object"
      ]
     },
     "metadata": {},
     "output_type": "display_data"
    }
   ],
   "source": [
    "min_runtime = data.runtime.min()\n",
    "display(data[data.runtime == min_runtime].original_title)"
   ]
  },
  {
   "cell_type": "markdown",
   "metadata": {
    "colab_type": "text",
    "id": "TfQbxbfNVp-p"
   },
   "source": [
    "# 4. Какова средняя длительность фильмов?\n"
   ]
  },
  {
   "cell_type": "code",
   "execution_count": 17,
   "metadata": {},
   "outputs": [],
   "source": [
    "answers['4'] = '110'\n",
    "# +"
   ]
  },
  {
   "cell_type": "code",
   "execution_count": 18,
   "metadata": {
    "colab": {},
    "colab_type": "code",
    "id": "5K6dKZYVVp-q"
   },
   "outputs": [
    {
     "data": {
      "text/plain": [
       "110"
      ]
     },
     "metadata": {},
     "output_type": "display_data"
    }
   ],
   "source": [
    "display(round(data.runtime.mean()))"
   ]
  },
  {
   "cell_type": "markdown",
   "metadata": {
    "colab_type": "text",
    "id": "r5TvbnT_Vp-u"
   },
   "source": [
    "# 5. Каково медианное значение длительности фильмов? "
   ]
  },
  {
   "cell_type": "code",
   "execution_count": 19,
   "metadata": {},
   "outputs": [],
   "source": [
    "answers['5'] = '107'\n",
    "# +"
   ]
  },
  {
   "cell_type": "code",
   "execution_count": 20,
   "metadata": {
    "colab": {},
    "colab_type": "code",
    "id": "iBROplKnVp-v"
   },
   "outputs": [
    {
     "data": {
      "text/plain": [
       "107.0"
      ]
     },
     "metadata": {},
     "output_type": "display_data"
    }
   ],
   "source": [
    "display(data.runtime.median())"
   ]
  },
  {
   "cell_type": "markdown",
   "metadata": {
    "colab_type": "text",
    "id": "39P-deDSVp-y"
   },
   "source": [
    "# 6. Какой самый прибыльный фильм?\n",
    "#### Внимание! Здесь и далее под «прибылью» или «убытками» понимается разность между сборами и бюджетом фильма. (прибыль = сборы - бюджет) в нашем датасете это будет (profit = revenue - budget) "
   ]
  },
  {
   "cell_type": "code",
   "execution_count": 21,
   "metadata": {},
   "outputs": [],
   "source": [
    "answers['6'] = 'Avatar'\n",
    "# +"
   ]
  },
  {
   "cell_type": "code",
   "execution_count": 22,
   "metadata": {
    "colab": {},
    "colab_type": "code",
    "id": "UYZh4T9WVp-y"
   },
   "outputs": [
    {
     "data": {
      "text/plain": [
       "239    Avatar\n",
       "Name: original_title, dtype: object"
      ]
     },
     "metadata": {},
     "output_type": "display_data"
    }
   ],
   "source": [
    "max_profit = data.profit.max()\n",
    "display(data[data.profit == max_profit].original_title)"
   ]
  },
  {
   "cell_type": "markdown",
   "metadata": {
    "colab_type": "text",
    "id": "M99JmIX4Vp-2"
   },
   "source": [
    "# 7. Какой фильм самый убыточный? "
   ]
  },
  {
   "cell_type": "code",
   "execution_count": 23,
   "metadata": {},
   "outputs": [],
   "source": [
    "answers['7'] = 'The Lone Ranger'\n",
    "# +"
   ]
  },
  {
   "cell_type": "code",
   "execution_count": 24,
   "metadata": {
    "colab": {},
    "colab_type": "code",
    "id": "w-D2m4XPVp-3"
   },
   "outputs": [
    {
     "data": {
      "text/plain": [
       "1245    The Lone Ranger\n",
       "Name: original_title, dtype: object"
      ]
     },
     "metadata": {},
     "output_type": "display_data"
    }
   ],
   "source": [
    "max_loss = data.profit.min()\n",
    "display(data[data.profit == max_loss].original_title)"
   ]
  },
  {
   "cell_type": "markdown",
   "metadata": {
    "colab_type": "text",
    "id": "wEOM5ERVVp-6"
   },
   "source": [
    "# 8. У скольких фильмов из датасета объем сборов оказался выше бюджета?"
   ]
  },
  {
   "cell_type": "code",
   "execution_count": 25,
   "metadata": {},
   "outputs": [],
   "source": [
    "answers['8'] = '1478'\n",
    "# +"
   ]
  },
  {
   "cell_type": "code",
   "execution_count": 26,
   "metadata": {
    "colab": {},
    "colab_type": "code",
    "id": "y00_7HD6Vp-7"
   },
   "outputs": [
    {
     "data": {
      "text/plain": [
       "1478"
      ]
     },
     "metadata": {},
     "output_type": "display_data"
    }
   ],
   "source": [
    "display(data.profit[data.profit > 0].count())"
   ]
  },
  {
   "cell_type": "markdown",
   "metadata": {
    "colab_type": "text",
    "id": "xhpspA9KVp_A"
   },
   "source": [
    "# 9. Какой фильм оказался самым кассовым в 2008 году?"
   ]
  },
  {
   "cell_type": "code",
   "execution_count": 27,
   "metadata": {},
   "outputs": [],
   "source": [
    "answers['9'] = 'The Dark Knight'\n",
    "# +"
   ]
  },
  {
   "cell_type": "code",
   "execution_count": 28,
   "metadata": {
    "colab": {},
    "colab_type": "code",
    "id": "MoUyQr9RVp_B"
   },
   "outputs": [
    {
     "data": {
      "text/plain": [
       "599    The Dark Knight\n",
       "Name: original_title, dtype: object"
      ]
     },
     "metadata": {},
     "output_type": "display_data"
    }
   ],
   "source": [
    "max_profit_2008 = data.profit[data.release_year == 2008].max()\n",
    "display(data[data.profit == max_profit_2008].original_title)"
   ]
  },
  {
   "cell_type": "markdown",
   "metadata": {
    "colab_type": "text",
    "id": "Zi4hDKidVp_F"
   },
   "source": [
    "# 10. Самый убыточный фильм за период с 2012 по 2014 г. (включительно)?\n"
   ]
  },
  {
   "cell_type": "code",
   "execution_count": 29,
   "metadata": {},
   "outputs": [],
   "source": [
    "answers['10'] = 'The Lone Ranger'\n",
    "# +"
   ]
  },
  {
   "cell_type": "code",
   "execution_count": 30,
   "metadata": {
    "colab": {},
    "colab_type": "code",
    "id": "XqyRmufJVp_F"
   },
   "outputs": [
    {
     "data": {
      "text/plain": [
       "1245    The Lone Ranger\n",
       "Name: original_title, dtype: object"
      ]
     },
     "metadata": {},
     "output_type": "display_data"
    }
   ],
   "source": [
    "max_loss_2012_2014 = data.profit[data.release_year.between(2012, 2013, 2014)].min()\n",
    "display(data[data.profit == max_loss_2012_2014].original_title)"
   ]
  },
  {
   "cell_type": "markdown",
   "metadata": {
    "colab_type": "text",
    "id": "EA7Sa9dkVp_I"
   },
   "source": [
    "# 11. Какого жанра фильмов больше всего?"
   ]
  },
  {
   "cell_type": "code",
   "execution_count": 31,
   "metadata": {},
   "outputs": [],
   "source": [
    "answers['11'] = 'Drama'\n",
    "# +"
   ]
  },
  {
   "cell_type": "code",
   "execution_count": 32,
   "metadata": {
    "colab": {},
    "colab_type": "code",
    "id": "zsJAwJ8QVp_J"
   },
   "outputs": [
    {
     "data": {
      "text/plain": [
       "[('Drama', 782)]"
      ]
     },
     "metadata": {},
     "output_type": "display_data"
    }
   ],
   "source": [
    "genre_counter = Counter()\n",
    "popular_genres = data.genres.apply(lambda x: genre_counts(x, genre_counter))\n",
    "display(genre_counter.most_common(1))"
   ]
  },
  {
   "cell_type": "markdown",
   "metadata": {
    "colab_type": "text",
    "id": "T9_bPWpkVp_Q"
   },
   "source": [
    "# 12. Фильмы какого жанра чаще всего становятся прибыльными? "
   ]
  },
  {
   "cell_type": "code",
   "execution_count": 33,
   "metadata": {},
   "outputs": [],
   "source": [
    "answers['12'] = 'Drama'\n",
    "# +"
   ]
  },
  {
   "cell_type": "code",
   "execution_count": 34,
   "metadata": {
    "colab": {},
    "colab_type": "code",
    "id": "Tmt8MaK1Vp_R"
   },
   "outputs": [
    {
     "name": "stdout",
     "output_type": "stream",
     "text": [
      "[('Drama', 560)]\n",
      "CPU times: user 19.3 ms, sys: 661 µs, total: 20 ms\n",
      "Wall time: 22.3 ms\n"
     ]
    }
   ],
   "source": [
    "%%time\n",
    "profit_genres = Counter()\n",
    "\n",
    "# фильтр прибыльных фильмов \n",
    "profit_movies = data[data.profit > 0]\n",
    "\n",
    "popular_genres = profit_movies.genres.apply(lambda x: genre_counts(x, profit_genres))\n",
    "print(profit_genres.most_common(1))"
   ]
  },
  {
   "cell_type": "markdown",
   "metadata": {},
   "source": [
    "ВТОРОЙ ВАРИАНТ"
   ]
  },
  {
   "cell_type": "code",
   "execution_count": 35,
   "metadata": {},
   "outputs": [
    {
     "name": "stdout",
     "output_type": "stream",
     "text": [
      "[('Drama', 560)]\n",
      "CPU times: user 8.6 s, sys: 19.1 ms, total: 8.61 s\n",
      "Wall time: 8.61 s\n"
     ]
    }
   ],
   "source": [
    "%%time\n",
    "# второй вариант (намного более медленный)\n",
    "profit_genres = Counter()\n",
    "for i in range(data.shape[0]):\n",
    "    # берём только значения прибыльных фильмов (по индексу ячейки)\n",
    "    if int(data.iloc[[i], [-1]].values[0][0]) > 0:\n",
    "        # обновляем значения счётчика\n",
    "        genre_counts(data.iloc[[i], [9]].values[0][0], profit_genres)\n",
    "print(profit_genres.most_common(1))"
   ]
  },
  {
   "cell_type": "markdown",
   "metadata": {
    "colab_type": "text",
    "id": "0F23bgsDVp_U"
   },
   "source": [
    "# 13. У какого режиссера самые большие суммарные кассовые сбооры?"
   ]
  },
  {
   "cell_type": "code",
   "execution_count": 36,
   "metadata": {},
   "outputs": [],
   "source": [
    "answers['13'] = 'Peter Jackson'\n",
    "# +"
   ]
  },
  {
   "cell_type": "code",
   "execution_count": 37,
   "metadata": {},
   "outputs": [
    {
     "name": "stdout",
     "output_type": "stream",
     "text": [
      "[('Peter Jackson', 6490593685)]\n",
      "CPU times: user 2.55 s, sys: 0 ns, total: 2.55 s\n",
      "Wall time: 2.57 s\n"
     ]
    }
   ],
   "source": [
    "%%time\n",
    "revenue_by_director = Counter()\n",
    "\n",
    "# создание списка уже использованных значений (используется в функции data_count)\n",
    "old_values = []\n",
    "\n",
    "data.director.apply(lambda x: data_count(x, 'director', counter=revenue_by_director, \n",
    "                                         summary=True, sum_column='revenue'))\n",
    "print(revenue_by_director.most_common(1))"
   ]
  },
  {
   "cell_type": "markdown",
   "metadata": {},
   "source": [
    "ВТОРОЙ ВАРИАНТ"
   ]
  },
  {
   "cell_type": "code",
   "execution_count": 38,
   "metadata": {
    "colab": {},
    "colab_type": "code",
    "id": "K6Z3J8ygVp_X"
   },
   "outputs": [
    {
     "name": "stdout",
     "output_type": "stream",
     "text": [
      "[('Peter Jackson', 6490593685)]\n",
      "CPU times: user 2.59 s, sys: 0 ns, total: 2.59 s\n",
      "Wall time: 2.59 s\n"
     ]
    }
   ],
   "source": [
    "%%time\n",
    "revenue_by_director = Counter()\n",
    "directors = data.director.unique()\n",
    "for director in directors:\n",
    "    director_movies = data[data.director == director]\n",
    "    # раздление списка режиссёров у фильма на несколько (разные режиссёры разделены \"|\")\n",
    "    director = director.split(\"|\")\n",
    "    # добавление каждого из режиссёров в счётчик\n",
    "    for sub_director in director:\n",
    "        revenue_by_director[sub_director] += director_movies.revenue.sum()\n",
    "print(revenue_by_director.most_common(1))"
   ]
  },
  {
   "cell_type": "markdown",
   "metadata": {
    "colab_type": "text",
    "id": "PsYC9FgRVp_a"
   },
   "source": [
    "# 14. Какой режисер снял больше всего фильмов в стиле Action?"
   ]
  },
  {
   "cell_type": "code",
   "execution_count": 39,
   "metadata": {},
   "outputs": [],
   "source": [
    "answers['14'] = 'Robert Rodriguez'\n",
    "# +"
   ]
  },
  {
   "cell_type": "code",
   "execution_count": 40,
   "metadata": {},
   "outputs": [
    {
     "name": "stdout",
     "output_type": "stream",
     "text": [
      "[('Robert Rodriguez', 9)]\n"
     ]
    }
   ],
   "source": [
    "action_by_directors = Counter()\n",
    "# создание списка уже использованных значений (используется в функции data_count)\n",
    "old_values = []\n",
    "\n",
    "# фильтрация фильмов жанра Экшн\n",
    "action_movies = data[data.genres.str.contains('Action')]\n",
    "\n",
    "action_movies.director.apply(lambda x: data_count(x, 'director', counter=action_by_directors, data=action_movies,\n",
    "                                         count=True))\n",
    "print(action_by_directors.most_common(1))"
   ]
  },
  {
   "cell_type": "markdown",
   "metadata": {
    "colab_type": "text",
    "id": "PQ0KciD7Vp_f"
   },
   "source": [
    "# 15. Фильмы с каким актером принесли самые высокие кассовые сборы в 2012 году? "
   ]
  },
  {
   "cell_type": "code",
   "execution_count": 41,
   "metadata": {},
   "outputs": [],
   "source": [
    "answers['15'] = 'Chris Hemsworth'\n",
    "# +"
   ]
  },
  {
   "cell_type": "code",
   "execution_count": 42,
   "metadata": {},
   "outputs": [
    {
     "name": "stdout",
     "output_type": "stream",
     "text": [
      "[('Chris Hemsworth', 2027450773)]\n"
     ]
    }
   ],
   "source": [
    "actor_revenue = Counter()\n",
    "\n",
    "# создание списка уже использованных значений (используется в функции data_count)\n",
    "old_values = []\n",
    "\n",
    "# фильтрация фильмов, выпущенных в 2012\n",
    "movies_2012 = data[data.release_year == 2012]\n",
    "\n",
    "movies_2012.cast.apply(lambda x: data_count(x, 'cast', counter=actor_revenue, \n",
    "                                            summary=True, sum_column='revenue', data=movies_2012))\n",
    "print(actor_revenue.most_common(1))"
   ]
  },
  {
   "cell_type": "markdown",
   "metadata": {
    "colab_type": "text",
    "id": "mWHyyL7QVp_j"
   },
   "source": [
    "# 16. Какой актер снялся в большем количестве высокобюджетных фильмов?"
   ]
  },
  {
   "cell_type": "code",
   "execution_count": 43,
   "metadata": {},
   "outputs": [],
   "source": [
    "answers['16'] = 'Matt Damon'\n",
    "# +"
   ]
  },
  {
   "cell_type": "code",
   "execution_count": 44,
   "metadata": {
    "colab": {},
    "colab_type": "code",
    "id": "qQtmHKTFVp_k"
   },
   "outputs": [
    {
     "data": {
      "text/plain": [
       "[('Matt Damon', 18)]"
      ]
     },
     "execution_count": 44,
     "metadata": {},
     "output_type": "execute_result"
    }
   ],
   "source": [
    "high_budget_counter = Counter()\n",
    "old_values=[]\n",
    "\n",
    "# фильтрация высокобюджетных фильмов - их бюджет выше среднего \n",
    "high_budget_movies = data[data.budget > data.budget.mean()]\n",
    "\n",
    "high_budget_movies.cast.apply(lambda x: data_count(x, 'cast', counter=high_budget_counter,\n",
    "                                                   count = True, data=high_budget_movies))\n",
    "high_budget_counter.most_common(1)"
   ]
  },
  {
   "cell_type": "markdown",
   "metadata": {
    "colab_type": "text",
    "id": "NIh6AaW5Vp_n"
   },
   "source": [
    "# 17. В фильмах какого жанра больше всего снимался Nicolas Cage? "
   ]
  },
  {
   "cell_type": "code",
   "execution_count": 45,
   "metadata": {},
   "outputs": [],
   "source": [
    "answers['17'] = 'Action'\n",
    "# +"
   ]
  },
  {
   "cell_type": "code",
   "execution_count": 46,
   "metadata": {
    "colab": {},
    "colab_type": "code",
    "id": "H74SJDIBVp_n"
   },
   "outputs": [
    {
     "data": {
      "text/plain": [
       "[('Action', 17)]"
      ]
     },
     "execution_count": 46,
     "metadata": {},
     "output_type": "execute_result"
    }
   ],
   "source": [
    "cage_genres = Counter()\n",
    "\n",
    "# фильтрация фильмов с участием Николаса Кейджа\n",
    "cage_movies = data[data.cast.str.contains('Nicolas Cage')]\n",
    "\n",
    "cage_movies.genres.apply(lambda x: genre_counts(x, cage_genres))\n",
    "cage_genres.most_common(1)"
   ]
  },
  {
   "cell_type": "markdown",
   "metadata": {
    "colab_type": "text",
    "id": "RqOmPRfWVp_q"
   },
   "source": [
    "# 18. Самый убыточный фильм от Paramount Pictures"
   ]
  },
  {
   "cell_type": "code",
   "execution_count": 47,
   "metadata": {},
   "outputs": [],
   "source": [
    "answers['18'] = 'K-19: The Widowmaker'\n",
    "# +"
   ]
  },
  {
   "cell_type": "code",
   "execution_count": 48,
   "metadata": {
    "colab": {},
    "colab_type": "code",
    "id": "9E_B0Y96Vp_r"
   },
   "outputs": [
    {
     "data": {
      "text/plain": [
       "925    K-19: The Widowmaker\n",
       "Name: original_title, dtype: object"
      ]
     },
     "metadata": {},
     "output_type": "display_data"
    }
   ],
   "source": [
    "# фильтрация фильмов от Paramount Pictures\n",
    "paramount_movies = data[data.production_companies.str.contains('Paramount Pictures')]\n",
    "display(paramount_movies[paramount_movies.profit == paramount_movies.profit.min()].original_title)"
   ]
  },
  {
   "cell_type": "markdown",
   "metadata": {
    "colab_type": "text",
    "id": "vS8Ur6ddVp_u"
   },
   "source": [
    "# 19. Какой год стал самым успешным по суммарным кассовым сборам?"
   ]
  },
  {
   "cell_type": "code",
   "execution_count": 49,
   "metadata": {},
   "outputs": [],
   "source": [
    "answers['19'] = '2015'\n",
    "# +"
   ]
  },
  {
   "cell_type": "code",
   "execution_count": 50,
   "metadata": {
    "colab": {},
    "colab_type": "code",
    "id": "Dnbt4GdIVp_v"
   },
   "outputs": [
    {
     "data": {
      "text/html": [
       "<div>\n",
       "<style scoped>\n",
       "    .dataframe tbody tr th:only-of-type {\n",
       "        vertical-align: middle;\n",
       "    }\n",
       "\n",
       "    .dataframe tbody tr th {\n",
       "        vertical-align: top;\n",
       "    }\n",
       "\n",
       "    .dataframe thead th {\n",
       "        text-align: right;\n",
       "    }\n",
       "</style>\n",
       "<table border=\"1\" class=\"dataframe\">\n",
       "  <thead>\n",
       "    <tr style=\"text-align: right;\">\n",
       "      <th></th>\n",
       "      <th>revenue</th>\n",
       "    </tr>\n",
       "    <tr>\n",
       "      <th>release_year</th>\n",
       "      <th></th>\n",
       "    </tr>\n",
       "  </thead>\n",
       "  <tbody>\n",
       "    <tr>\n",
       "      <th>2015</th>\n",
       "      <td>25449202382</td>\n",
       "    </tr>\n",
       "  </tbody>\n",
       "</table>\n",
       "</div>"
      ],
      "text/plain": [
       "                  revenue\n",
       "release_year             \n",
       "2015          25449202382"
      ]
     },
     "execution_count": 50,
     "metadata": {},
     "output_type": "execute_result"
    }
   ],
   "source": [
    "# группировка фильмов по году выпуска\n",
    "year_groups = data.groupby('release_year')[['revenue']].sum()\n",
    "year_groups[year_groups.revenue == year_groups.revenue.max()]"
   ]
  },
  {
   "cell_type": "markdown",
   "metadata": {
    "colab_type": "text",
    "id": "JAzJh4QAVp_z"
   },
   "source": [
    "# 20. Какой самый прибыльный год для студии Warner Bros?"
   ]
  },
  {
   "cell_type": "code",
   "execution_count": 51,
   "metadata": {},
   "outputs": [],
   "source": [
    "answers['20'] = '2014'\n",
    "# +"
   ]
  },
  {
   "cell_type": "code",
   "execution_count": 52,
   "metadata": {
    "colab": {},
    "colab_type": "code",
    "id": "wgVu02DEVp_0"
   },
   "outputs": [
    {
     "data": {
      "text/html": [
       "<div>\n",
       "<style scoped>\n",
       "    .dataframe tbody tr th:only-of-type {\n",
       "        vertical-align: middle;\n",
       "    }\n",
       "\n",
       "    .dataframe tbody tr th {\n",
       "        vertical-align: top;\n",
       "    }\n",
       "\n",
       "    .dataframe thead th {\n",
       "        text-align: right;\n",
       "    }\n",
       "</style>\n",
       "<table border=\"1\" class=\"dataframe\">\n",
       "  <thead>\n",
       "    <tr style=\"text-align: right;\">\n",
       "      <th></th>\n",
       "      <th>profit</th>\n",
       "    </tr>\n",
       "    <tr>\n",
       "      <th>release_year</th>\n",
       "      <th></th>\n",
       "    </tr>\n",
       "  </thead>\n",
       "  <tbody>\n",
       "    <tr>\n",
       "      <th>2014</th>\n",
       "      <td>2295464519</td>\n",
       "    </tr>\n",
       "  </tbody>\n",
       "</table>\n",
       "</div>"
      ],
      "text/plain": [
       "                  profit\n",
       "release_year            \n",
       "2014          2295464519"
      ]
     },
     "execution_count": 52,
     "metadata": {},
     "output_type": "execute_result"
    }
   ],
   "source": [
    "# фильтрация фильмов от Warner Bros.\n",
    "warner_movies = data[data.production_companies.str.contains('Warner Bros')]\n",
    "\n",
    "# группировка фильмов по году выпуска\n",
    "year_groups = warner_movies.groupby('release_year')[['profit']].sum()\n",
    "year_groups[year_groups.profit == year_groups.profit.max()]"
   ]
  },
  {
   "cell_type": "markdown",
   "metadata": {
    "colab_type": "text",
    "id": "8Im1S2HRVp_4"
   },
   "source": [
    "# 21. В каком месяце за все годы суммарно вышло больше всего фильмов?"
   ]
  },
  {
   "cell_type": "code",
   "execution_count": 53,
   "metadata": {},
   "outputs": [],
   "source": [
    "answers['21'] = 'Сентябрь'\n",
    "# +"
   ]
  },
  {
   "cell_type": "code",
   "execution_count": 54,
   "metadata": {
    "colab": {},
    "colab_type": "code",
    "id": "lev6TH7gVp_4"
   },
   "outputs": [
    {
     "data": {
      "text/html": [
       "<div>\n",
       "<style scoped>\n",
       "    .dataframe tbody tr th:only-of-type {\n",
       "        vertical-align: middle;\n",
       "    }\n",
       "\n",
       "    .dataframe tbody tr th {\n",
       "        vertical-align: top;\n",
       "    }\n",
       "\n",
       "    .dataframe thead th {\n",
       "        text-align: right;\n",
       "    }\n",
       "</style>\n",
       "<table border=\"1\" class=\"dataframe\">\n",
       "  <thead>\n",
       "    <tr style=\"text-align: right;\">\n",
       "      <th></th>\n",
       "      <th>imdb_id</th>\n",
       "    </tr>\n",
       "    <tr>\n",
       "      <th>month</th>\n",
       "      <th></th>\n",
       "    </tr>\n",
       "  </thead>\n",
       "  <tbody>\n",
       "    <tr>\n",
       "      <th>9</th>\n",
       "      <td>227</td>\n",
       "    </tr>\n",
       "  </tbody>\n",
       "</table>\n",
       "</div>"
      ],
      "text/plain": [
       "       imdb_id\n",
       "month         \n",
       "9          227"
      ]
     },
     "execution_count": 54,
     "metadata": {},
     "output_type": "execute_result"
    }
   ],
   "source": [
    "# группировка фильмов по месяцу выпуска\n",
    "month_groups = data.groupby('month')[['imdb_id']].count()\n",
    "\n",
    "month_groups[month_groups.imdb_id == month_groups.imdb_id.max()]"
   ]
  },
  {
   "cell_type": "markdown",
   "metadata": {
    "colab_type": "text",
    "id": "uAJsZ_NeVp_7"
   },
   "source": [
    "# 22. Сколько суммарно вышло фильмов летом? (за июнь, июль, август)"
   ]
  },
  {
   "cell_type": "code",
   "execution_count": 55,
   "metadata": {},
   "outputs": [],
   "source": [
    "answers['22'] = '450'\n",
    "# +"
   ]
  },
  {
   "cell_type": "code",
   "execution_count": 56,
   "metadata": {
    "colab": {},
    "colab_type": "code",
    "id": "Aa-hEREoVp_8"
   },
   "outputs": [
    {
     "data": {
      "text/plain": [
       "450"
      ]
     },
     "execution_count": 56,
     "metadata": {},
     "output_type": "execute_result"
    }
   ],
   "source": [
    "summer_count = data[data.month.between(6, 8)].count()\n",
    "summer_count.imdb_id"
   ]
  },
  {
   "cell_type": "markdown",
   "metadata": {
    "colab_type": "text",
    "id": "G94ppOY1VqAA"
   },
   "source": [
    "# 23. Для какого режиссера зима – самое продуктивное время года? "
   ]
  },
  {
   "cell_type": "code",
   "execution_count": 57,
   "metadata": {},
   "outputs": [],
   "source": [
    "answers['23'] = 'Peter Jackson'\n",
    "# +"
   ]
  },
  {
   "cell_type": "code",
   "execution_count": 58,
   "metadata": {
    "colab": {},
    "colab_type": "code",
    "id": "RhNTsamuVqAB"
   },
   "outputs": [
    {
     "data": {
      "text/plain": [
       "0    Peter Jackson\n",
       "dtype: object"
      ]
     },
     "execution_count": 58,
     "metadata": {},
     "output_type": "execute_result"
    }
   ],
   "source": [
    "# зимние месяцы - 1,2 и 12 в году\n",
    "winter_movies = data[(data.month < 3) | (data.month > 11)]\n",
    "winter_movies.director.mode()"
   ]
  },
  {
   "cell_type": "markdown",
   "metadata": {
    "colab_type": "text",
    "id": "RBo0JVjVVqAF"
   },
   "source": [
    "# 24. Какая студия дает самые длинные названия своим фильмам по количеству символов?"
   ]
  },
  {
   "cell_type": "code",
   "execution_count": 59,
   "metadata": {},
   "outputs": [],
   "source": [
    "answers['24'] = 'Four By Two Productions'\n",
    "# +"
   ]
  },
  {
   "cell_type": "code",
   "execution_count": 60,
   "metadata": {
    "colab": {},
    "colab_type": "code",
    "id": "QRGS8L0iVqAG"
   },
   "outputs": [
    {
     "data": {
      "text/plain": [
       "[('Four By Two Productions', 83.0)]"
      ]
     },
     "execution_count": 60,
     "metadata": {},
     "output_type": "execute_result"
    }
   ],
   "source": [
    "# подсчёт количества символов в названии всех фильмов в разрезе каждой студии\n",
    "long_titles = Counter()\n",
    "old_values = []\n",
    "data.production_companies.apply(lambda x: data_count(x, 'production_companies', counter=long_titles, \n",
    "                                                     sum_column='title_len', summary = True, data=data))\n",
    "\n",
    "# подсчёт количества фильмов у каждой студии\n",
    "companies = Counter()\n",
    "old_values = []\n",
    "data.production_companies.apply(lambda x: data_count(x, 'production_companies', counter=companies, \n",
    "                                                     count = True, data=data))\n",
    "\n",
    "# подсчёт среднего количества символов в названии фильма у каждой студии\n",
    "avg_long_titles = Counter()\n",
    "# убеждаемся, что количество компаний в обоих счётчиках совпадает\n",
    "if len(companies.keys()) == len(long_titles):\n",
    "    for company in companies.keys():\n",
    "        avg_long_titles[company] = long_titles[company] / companies[company]\n",
    "avg_long_titles.most_common(1)"
   ]
  },
  {
   "cell_type": "markdown",
   "metadata": {
    "colab_type": "text",
    "id": "9G0hbvR7VqAK"
   },
   "source": [
    "# 25. Описание фильмов какой студии в среднем самые длинные по количеству слов?"
   ]
  },
  {
   "cell_type": "code",
   "execution_count": 61,
   "metadata": {},
   "outputs": [],
   "source": [
    "answers['25'] = 'Universal Pictures'\n",
    "# +"
   ]
  },
  {
   "cell_type": "code",
   "execution_count": 62,
   "metadata": {
    "colab": {},
    "colab_type": "code",
    "id": "Ge2GsLNxVqAK"
   },
   "outputs": [
    {
     "data": {
      "text/plain": [
       "[('Midnight Picture Show', 175.0)]"
      ]
     },
     "execution_count": 62,
     "metadata": {},
     "output_type": "execute_result"
    }
   ],
   "source": [
    "# подсчёт количества слов в описании всех фильмов в разрезе каждой студии\n",
    "long_overviews = Counter()\n",
    "old_values = []\n",
    "data.production_companies.apply(lambda x: data_count(x, 'production_companies', counter=long_overviews, data=data, \n",
    "                                                     sum_column='words_in_overview', summary = True))\n",
    "\n",
    "# подсчёт среднего количества символов в названии фильма у каждой студии \n",
    "avg_long_overviews = Counter()\n",
    "# убеждаемся, что количество компаний в обоих счётчиках совпадает\n",
    "if len(companies.keys()) == len(long_titles):\n",
    "    for company in companies.keys():\n",
    "        avg_long_overviews[company] = long_overviews[company] / companies[company]\n",
    "avg_long_overviews.most_common(1)"
   ]
  },
  {
   "cell_type": "markdown",
   "metadata": {
    "colab_type": "text",
    "id": "FJ1AFt90VqAP"
   },
   "source": [
    "# 26. Какие фильмы входят в 1 процент лучших по рейтингу? \n",
    "по vote_average"
   ]
  },
  {
   "cell_type": "code",
   "execution_count": 63,
   "metadata": {},
   "outputs": [],
   "source": [
    "answers['26'] = 'Inside Out', 'The Dark Knight', '12 Years a Slave'\n",
    "# +"
   ]
  },
  {
   "cell_type": "code",
   "execution_count": 64,
   "metadata": {
    "colab": {},
    "colab_type": "code",
    "id": "8qmJVq4CVqAQ",
    "scrolled": true
   },
   "outputs": [
    {
     "data": {
      "text/plain": [
       "599                                   The Dark Knight\n",
       "9                                          Inside Out\n",
       "34                                               Room\n",
       "118                                      Interstellar\n",
       "125                                The Imitation Game\n",
       "119                           Guardians of the Galaxy\n",
       "128                                         Gone Girl\n",
       "138                          The Grand Budapest Hotel\n",
       "370                                         Inception\n",
       "872                                       The Pianist\n",
       "1081    The Lord of the Rings: The Return of the King\n",
       "1183                          The Wolf of Wall Street\n",
       "1191                                 12 Years a Slave\n",
       "1800                                          Memento\n",
       "28                                          Spotlight\n",
       "124                                        Big Hero 6\n",
       "155                          The Theory of Everything\n",
       "177                            The Fault in Our Stars\n",
       "283                                        Mr. Nobody\n",
       "Name: original_title, dtype: object"
      ]
     },
     "metadata": {},
     "output_type": "display_data"
    }
   ],
   "source": [
    "one_percent = round(data.shape[0]/100)\n",
    "best_rating = data.nlargest(one_percent, 'vote_average')\n",
    "display(best_rating.original_title)"
   ]
  },
  {
   "cell_type": "markdown",
   "metadata": {
    "colab_type": "text",
    "id": "MdXsUXbCVqAV"
   },
   "source": [
    "# 27. Какие актеры чаще всего снимаются в одном фильме вместе?\n"
   ]
  },
  {
   "cell_type": "code",
   "execution_count": 65,
   "metadata": {},
   "outputs": [],
   "source": [
    "answers['27'] = 'Daniel Radcliffe & Rupert Grint'"
   ]
  },
  {
   "cell_type": "code",
   "execution_count": 66,
   "metadata": {},
   "outputs": [
    {
     "data": {
      "text/plain": [
       "[('Daniel Radcliffe & Emma Watson', 8),\n",
       " ('Daniel Radcliffe & Rupert Grint', 8),\n",
       " ('Emma Watson & Rupert Grint', 8),\n",
       " ('Ben Stiller & Owen Wilson', 6),\n",
       " ('Helena Bonham Carter & Johnny Depp', 6)]"
      ]
     },
     "execution_count": 66,
     "metadata": {},
     "output_type": "execute_result"
    }
   ],
   "source": [
    "actors_cross_counter = Counter()\n",
    "data.cast.apply(lambda x: actors_crossing(x, actors_cross_counter))\n",
    "actors_cross_counter.most_common(5)"
   ]
  },
  {
   "cell_type": "markdown",
   "metadata": {
    "colab_type": "text",
    "id": "U0nONFnGVqAX"
   },
   "source": [
    "# Submission"
   ]
  },
  {
   "cell_type": "code",
   "execution_count": 67,
   "metadata": {
    "colab": {},
    "colab_type": "code",
    "id": "IfcaRO9-VqAX",
    "outputId": "0f132912-32bb-4196-c98c-abfbc4ad5a5f"
   },
   "outputs": [
    {
     "data": {
      "text/plain": [
       "{'1': 'Pirates of the Caribbean: On Stranger Tides',\n",
       " '2': 'Gods and Generals',\n",
       " '3': 'Winnie the Pooh',\n",
       " '4': '110',\n",
       " '5': '107',\n",
       " '6': 'Avatar',\n",
       " '7': 'The Lone Ranger',\n",
       " '8': '1478',\n",
       " '9': 'The Dark Knight',\n",
       " '10': 'The Lone Ranger',\n",
       " '11': 'Drama',\n",
       " '12': 'Drama',\n",
       " '13': 'Peter Jackson',\n",
       " '14': 'Robert Rodriguez',\n",
       " '15': 'Chris Hemsworth',\n",
       " '16': 'Matt Damon',\n",
       " '17': 'Action',\n",
       " '18': 'K-19: The Widowmaker',\n",
       " '19': '2015',\n",
       " '20': '2014',\n",
       " '21': 'Сентябрь',\n",
       " '22': '450',\n",
       " '23': 'Peter Jackson',\n",
       " '24': 'Four By Two Productions',\n",
       " '25': 'Universal Pictures',\n",
       " '26': ('Inside Out', 'The Dark Knight', '12 Years a Slave'),\n",
       " '27': 'Daniel Radcliffe & Rupert Grint'}"
      ]
     },
     "execution_count": 67,
     "metadata": {},
     "output_type": "execute_result"
    }
   ],
   "source": [
    "# ответы на каждый вопрос\n",
    "answers"
   ]
  },
  {
   "cell_type": "code",
   "execution_count": 68,
   "metadata": {
    "colab": {},
    "colab_type": "code",
    "id": "SiRmHPl8VqAd"
   },
   "outputs": [
    {
     "data": {
      "text/plain": [
       "27"
      ]
     },
     "execution_count": 68,
     "metadata": {},
     "output_type": "execute_result"
    }
   ],
   "source": [
    "# убеждаемся, что ответов 27 штук\n",
    "len(answers)"
   ]
  }
 ],
 "metadata": {
  "colab": {
   "name": "Copy of [SF-DST] Movies IMBD v4.1 TEMPLATE.ipynb",
   "provenance": []
  },
  "kernelspec": {
   "display_name": "Python 3",
   "language": "python",
   "name": "python3"
  },
  "language_info": {
   "codemirror_mode": {
    "name": "ipython",
    "version": 3
   },
   "file_extension": ".py",
   "mimetype": "text/x-python",
   "name": "python",
   "nbconvert_exporter": "python",
   "pygments_lexer": "ipython3",
   "version": "3.6.9"
  }
 },
 "nbformat": 4,
 "nbformat_minor": 1
}
